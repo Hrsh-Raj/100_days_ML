{
 "cells": [
  {
   "cell_type": "code",
   "execution_count": 2,
   "id": "c1232f6a",
   "metadata": {},
   "outputs": [],
   "source": [
    "import pandas as pd"
   ]
  },
  {
   "cell_type": "code",
   "execution_count": 6,
   "id": "01d91054",
   "metadata": {},
   "outputs": [],
   "source": [
    "df = pd.read_csv('placement.csv')"
   ]
  },
  {
   "cell_type": "markdown",
   "id": "bf401331",
   "metadata": {},
   "source": [
    "### Opening csv file from URL"
   ]
  },
  {
   "cell_type": "code",
   "execution_count": 7,
   "id": "3d659e61",
   "metadata": {},
   "outputs": [],
   "source": [
    "import requests\n",
    "from io import StringIO"
   ]
  },
  {
   "cell_type": "code",
   "execution_count": 8,
   "id": "e053b7ef",
   "metadata": {},
   "outputs": [
    {
     "data": {
      "text/html": [
       "<div>\n",
       "<style scoped>\n",
       "    .dataframe tbody tr th:only-of-type {\n",
       "        vertical-align: middle;\n",
       "    }\n",
       "\n",
       "    .dataframe tbody tr th {\n",
       "        vertical-align: top;\n",
       "    }\n",
       "\n",
       "    .dataframe thead th {\n",
       "        text-align: right;\n",
       "    }\n",
       "</style>\n",
       "<table border=\"1\" class=\"dataframe\">\n",
       "  <thead>\n",
       "    <tr style=\"text-align: right;\">\n",
       "      <th></th>\n",
       "      <th>Country</th>\n",
       "      <th>Region</th>\n",
       "    </tr>\n",
       "  </thead>\n",
       "  <tbody>\n",
       "    <tr>\n",
       "      <th>0</th>\n",
       "      <td>Algeria</td>\n",
       "      <td>AFRICA</td>\n",
       "    </tr>\n",
       "    <tr>\n",
       "      <th>1</th>\n",
       "      <td>Angola</td>\n",
       "      <td>AFRICA</td>\n",
       "    </tr>\n",
       "    <tr>\n",
       "      <th>2</th>\n",
       "      <td>Benin</td>\n",
       "      <td>AFRICA</td>\n",
       "    </tr>\n",
       "    <tr>\n",
       "      <th>3</th>\n",
       "      <td>Botswana</td>\n",
       "      <td>AFRICA</td>\n",
       "    </tr>\n",
       "    <tr>\n",
       "      <th>4</th>\n",
       "      <td>Burkina</td>\n",
       "      <td>AFRICA</td>\n",
       "    </tr>\n",
       "    <tr>\n",
       "      <th>...</th>\n",
       "      <td>...</td>\n",
       "      <td>...</td>\n",
       "    </tr>\n",
       "    <tr>\n",
       "      <th>189</th>\n",
       "      <td>Paraguay</td>\n",
       "      <td>SOUTH AMERICA</td>\n",
       "    </tr>\n",
       "    <tr>\n",
       "      <th>190</th>\n",
       "      <td>Peru</td>\n",
       "      <td>SOUTH AMERICA</td>\n",
       "    </tr>\n",
       "    <tr>\n",
       "      <th>191</th>\n",
       "      <td>Suriname</td>\n",
       "      <td>SOUTH AMERICA</td>\n",
       "    </tr>\n",
       "    <tr>\n",
       "      <th>192</th>\n",
       "      <td>Uruguay</td>\n",
       "      <td>SOUTH AMERICA</td>\n",
       "    </tr>\n",
       "    <tr>\n",
       "      <th>193</th>\n",
       "      <td>Venezuela</td>\n",
       "      <td>SOUTH AMERICA</td>\n",
       "    </tr>\n",
       "  </tbody>\n",
       "</table>\n",
       "<p>194 rows × 2 columns</p>\n",
       "</div>"
      ],
      "text/plain": [
       "       Country         Region\n",
       "0      Algeria         AFRICA\n",
       "1       Angola         AFRICA\n",
       "2        Benin         AFRICA\n",
       "3     Botswana         AFRICA\n",
       "4      Burkina         AFRICA\n",
       "..         ...            ...\n",
       "189   Paraguay  SOUTH AMERICA\n",
       "190       Peru  SOUTH AMERICA\n",
       "191   Suriname  SOUTH AMERICA\n",
       "192    Uruguay  SOUTH AMERICA\n",
       "193  Venezuela  SOUTH AMERICA\n",
       "\n",
       "[194 rows x 2 columns]"
      ]
     },
     "execution_count": 8,
     "metadata": {},
     "output_type": "execute_result"
    }
   ],
   "source": [
    "url = 'https://raw.githubusercontent.com/cs109/2014_data/master/countries.csv'\n",
    "req = requests.get(url)\n",
    "data = StringIO(req.text)\n",
    "\n",
    "pd.read_csv(data)"
   ]
  },
  {
   "cell_type": "code",
   "execution_count": null,
   "id": "c9ec6246",
   "metadata": {},
   "outputs": [],
   "source": [
    "#Sep parameter\n",
    "pd.read_csv('file.tsv', sep = '\\t', names = ['sno', 'release_year', 'movies', 'genres'])"
   ]
  },
  {
   "cell_type": "code",
   "execution_count": null,
   "id": "569eb505",
   "metadata": {},
   "outputs": [],
   "source": [
    "#Index_col Parameter, to make particular column index, such as sno, or id\n",
    "pd.read_csv('file.csv', index_col= 'enrollee_id')"
   ]
  },
  {
   "cell_type": "code",
   "execution_count": null,
   "id": "eea5a761",
   "metadata": {},
   "outputs": [],
   "source": [
    "#Header parameter when pandas failed to read columns from csv file, and make cols another row\n",
    "pd.read_csv('file.csv', header=1)"
   ]
  },
  {
   "cell_type": "code",
   "execution_count": null,
   "id": "49cfa021",
   "metadata": {},
   "outputs": [],
   "source": [
    "#Use_cols parameter to show only particular columns\n",
    "pd.read_csv('file.csv', usecols= ['gender', 'education_level'])"
   ]
  },
  {
   "cell_type": "code",
   "execution_count": null,
   "id": "fd9fae93",
   "metadata": {},
   "outputs": [],
   "source": [
    "#Squeeze parameters, it makes col series, instead of dataframe\n",
    "pd.read_csv('file.csv', usecols=['enrollee_id'], squeeze = True)"
   ]
  },
  {
   "cell_type": "code",
   "execution_count": null,
   "id": "eb9c91ca",
   "metadata": {},
   "outputs": [],
   "source": [
    "#Skiprows/nrows Parameter, when want to skip certain rows\n",
    "#nrows when you want to see only those particular rows\n",
    "pd.read_csv('file.csv', skiprows=[0,2])\n",
    "pd.read_csv('file.csv', nrows=100)"
   ]
  },
  {
   "cell_type": "code",
   "execution_count": null,
   "id": "ce671ecb",
   "metadata": {},
   "outputs": [],
   "source": [
    "#Encoding parameter\n",
    "pd.read_csv('file.csv', encoding='latin-1')"
   ]
  },
  {
   "cell_type": "code",
   "execution_count": null,
   "id": "5fbc08c7",
   "metadata": {},
   "outputs": [],
   "source": [
    "#Skip bad lines\n",
    "pd.read_csv('file.csv', encoding='latin-1', error_bad_lines = False, skip_blank_lines= True)"
   ]
  },
  {
   "cell_type": "code",
   "execution_count": null,
   "id": "f72180ee",
   "metadata": {},
   "outputs": [],
   "source": [
    "#dtypes parameter\n",
    "pd.read_csv('file.csv', dtype={'target':int})"
   ]
  },
  {
   "cell_type": "code",
   "execution_count": null,
   "id": "00a3a774",
   "metadata": {},
   "outputs": [],
   "source": [
    "#Handling dates\n",
    "pd.read_csv('excel.csv', parse_dates=['date'])"
   ]
  },
  {
   "cell_type": "code",
   "execution_count": null,
   "id": "1cf44bc1",
   "metadata": {},
   "outputs": [],
   "source": [
    "\n",
    "def rename(name):\n",
    "    if name == 'Royal Challengers Bangalore':\n",
    "        return 'RCB'\n",
    "    else: \n",
    "        return name"
   ]
  },
  {
   "cell_type": "code",
   "execution_count": null,
   "id": "5c78934e",
   "metadata": {},
   "outputs": [
    {
     "data": {
      "text/plain": [
       "'RCB'"
      ]
     },
     "execution_count": 17,
     "metadata": {},
     "output_type": "execute_result"
    }
   ],
   "source": [
    "rename('Royal Challengers Bangalore')"
   ]
  },
  {
   "cell_type": "code",
   "execution_count": null,
   "id": "1764a725",
   "metadata": {},
   "outputs": [],
   "source": [
    "#Convertors, want to do some transformation\n",
    "pd.read_csv('file.csv', converters={'team1': rename} )"
   ]
  },
  {
   "cell_type": "code",
   "execution_count": null,
   "id": "b2242e32",
   "metadata": {},
   "outputs": [],
   "source": [
    "#na_vale parameter, what other values want to consider nan, e.g., - \"\" these values we can define so that it would consider NaN\n",
    "pd.read_csv('file.csv', na_values=['-', 'adf'] )"
   ]
  },
  {
   "cell_type": "code",
   "execution_count": null,
   "id": "6266e12d",
   "metadata": {},
   "outputs": [],
   "source": [
    "#loading a huge dataset in chunks\n",
    "dfs = pd.read_csv('file.csv', chunksize=5000)"
   ]
  },
  {
   "cell_type": "code",
   "execution_count": null,
   "id": "8d60c035",
   "metadata": {},
   "outputs": [],
   "source": [
    "for chunks in dfs:\n",
    "    print(chunks.shape)"
   ]
  }
 ],
 "metadata": {
  "kernelspec": {
   "display_name": "Python 3",
   "language": "python",
   "name": "python3"
  },
  "language_info": {
   "codemirror_mode": {
    "name": "ipython",
    "version": 3
   },
   "file_extension": ".py",
   "mimetype": "text/x-python",
   "name": "python",
   "nbconvert_exporter": "python",
   "pygments_lexer": "ipython3",
   "version": "3.12.9"
  }
 },
 "nbformat": 4,
 "nbformat_minor": 5
}
