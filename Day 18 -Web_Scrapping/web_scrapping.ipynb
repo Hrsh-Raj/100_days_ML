{
 "cells": [
  {
   "cell_type": "code",
   "execution_count": 1,
   "id": "a55dc357",
   "metadata": {},
   "outputs": [],
   "source": [
    "import pandas as pd\n",
    "import requests \n",
    "from bs4 import BeautifulSoup"
   ]
  },
  {
   "cell_type": "code",
   "execution_count": 6,
   "id": "7b78c379",
   "metadata": {},
   "outputs": [
    {
     "data": {
      "text/plain": [
       "'<HTML><HEAD>\\n<TITLE>Access Denied</TITLE>\\n</HEAD><BODY>\\n<H1>Access Denied</H1>\\n \\nYou don\\'t have permission to access \"http&#58;&#47;&#47;www&#46;ambitionbox&#46;com&#47;list&#45;of&#45;companies&#63;\" on this server.<P>\\nReference&#32;&#35;18&#46;bf055a68&#46;1745743517&#46;23b6f437\\n<P>https&#58;&#47;&#47;errors&#46;edgesuite&#46;net&#47;18&#46;bf055a68&#46;1745743517&#46;23b6f437</P>\\n</BODY>\\n</HTML>\\n'"
      ]
     },
     "execution_count": 6,
     "metadata": {},
     "output_type": "execute_result"
    }
   ],
   "source": [
    "url = 'https://www.ambitionbox.com/list-of-companies?page=1'\n",
    "response = requests.get(url)\n",
    "response.text"
   ]
  },
  {
   "cell_type": "code",
   "execution_count": 7,
   "id": "19a2eeb6",
   "metadata": {},
   "outputs": [],
   "source": [
    "#Make the request coming from browser itself to avoid access denied, some websites have robots.txt if they include details in the file, then we wont be access until it comes from browser, we are using header."
   ]
  },
  {
   "cell_type": "code",
   "execution_count": null,
   "id": "eaace7b8",
   "metadata": {},
   "outputs": [],
   "source": [
    "headers = {'User-Agent': 'Mozilla/5.0 (Windows NT 6.3; Win64; x64) Apple WebKit /537.36(KHTML , like Gecko) Chrome/80.0.3987.162 Safari/537.36'}\n",
    "url = 'https://www.ambitionbox.com/list-of-companies?page=1'\n",
    "webpage = requests.get(url, headers=headers).text"
   ]
  },
  {
   "cell_type": "code",
   "execution_count": 1,
   "id": "94fef11d",
   "metadata": {},
   "outputs": [],
   "source": [
    "#Beautiful soup is widely used for web scrapping in python"
   ]
  },
  {
   "cell_type": "code",
   "execution_count": null,
   "id": "55e7f4c6",
   "metadata": {},
   "outputs": [],
   "source": [
    "soup = BeautifulSoup(webpage, 'lxml')"
   ]
  },
  {
   "cell_type": "code",
   "execution_count": null,
   "id": "d3d07cf8",
   "metadata": {},
   "outputs": [],
   "source": [
    "soup.prettify()"
   ]
  },
  {
   "cell_type": "code",
   "execution_count": null,
   "id": "012d5168",
   "metadata": {},
   "outputs": [],
   "source": [
    "soup.find_all('h1')[0].text"
   ]
  },
  {
   "cell_type": "code",
   "execution_count": null,
   "id": "8270d7a9",
   "metadata": {},
   "outputs": [],
   "source": [
    "for i in soup.find_all('h2'):\n",
    "    print(i.text.strip())"
   ]
  },
  {
   "cell_type": "code",
   "execution_count": null,
   "id": "7cb05ffa",
   "metadata": {},
   "outputs": [],
   "source": [
    "soup.find_all('p', class_ = 'rating')"
   ]
  },
  {
   "cell_type": "code",
   "execution_count": null,
   "id": "6dccdf2f",
   "metadata": {},
   "outputs": [],
   "source": [
    "soup.find_all('a', class_ = 'review-count')"
   ]
  },
  {
   "cell_type": "code",
   "execution_count": 2,
   "id": "60334cad",
   "metadata": {},
   "outputs": [],
   "source": [
    "#below are the correct code"
   ]
  },
  {
   "cell_type": "code",
   "execution_count": null,
   "id": "a4d6ba0a",
   "metadata": {},
   "outputs": [],
   "source": [
    "soup = BeautifulSoup(webpage, 'lxml')"
   ]
  },
  {
   "cell_type": "code",
   "execution_count": null,
   "id": "61202cb4",
   "metadata": {},
   "outputs": [],
   "source": [
    "company = soup.find_all('div', class_ = 'company-content-wrapper')"
   ]
  },
  {
   "cell_type": "code",
   "execution_count": null,
   "id": "dd1949e2",
   "metadata": {},
   "outputs": [],
   "source": [
    "len(company)"
   ]
  },
  {
   "cell_type": "code",
   "execution_count": null,
   "id": "52131d7b",
   "metadata": {},
   "outputs": [],
   "source": [
    "name = []\n",
    "for i in company:\n",
    "    name.append(i.find('h2').text.strip())"
   ]
  },
  {
   "cell_type": "code",
   "execution_count": null,
   "id": "c67d6197",
   "metadata": {},
   "outputs": [],
   "source": [
    "name"
   ]
  },
  {
   "cell_type": "code",
   "execution_count": null,
   "id": "d9fc1386",
   "metadata": {},
   "outputs": [],
   "source": [
    "name = []\n",
    "rating = []\n",
    "reviews=[]\n",
    "ctype = []\n",
    "hq = []\n",
    "old =[]\n",
    "employees = []\n",
    "\n",
    "for i in company:\n",
    "    name.append(i.find('h2').text.strip())\n",
    "    rating.append(i.find('p', class_ = 'rating').text.strip())\n",
    "    reviews.append(i.find('a', class_ = 'review-count').text.strip())\n",
    "    ctype.append(i.find_all('p'), class_ = 'infoEntity')[0].text.strip()\n",
    "    hq.append(i.find_all('p'), class_ = 'infoEntity')[0].text.strip()\n",
    "    old.append(i.find_all('p'), class_ = 'infoEntity')[0].text.strip()\n",
    "    employees.append(i.find_all('p'), class_ = 'infoEntity')[0].text.strip()\n",
    "\n",
    "\n",
    "d = {'name': name, 'rating': rating, 'reviews': reviews, 'type': ctype, 'hq': hq}\n",
    "\n",
    "df = pd.DataFrame(d)\n",
    "\n",
    "df"
   ]
  },
  {
   "cell_type": "code",
   "execution_count": null,
   "id": "c8036321",
   "metadata": {},
   "outputs": [],
   "source": [
    "df.shape"
   ]
  },
  {
   "cell_type": "code",
   "execution_count": null,
   "id": "3db35274",
   "metadata": {},
   "outputs": [],
   "source": [
    "final = pd.DataFrame()\n",
    "for j in range(1, 11):\n",
    "    headers = {'User-Agent': 'Mozilla/5.0 (Windows NT 6.3; Win64; x64) Apple WebKit /537.36(KHTML , like Gecko) Chrome/80.0.3987.162 Safari/537.36'}\n",
    "    url = f'https://www.ambitionbox.com/list-of-companies?page={j}'\n",
    "    webpage = requests.get(url, headers=headers).text\n",
    "\n",
    "    soup = BeautifulSoup(webpage, 'lxml')\n",
    "    name = []\n",
    "    rating = []\n",
    "    reviews=[]\n",
    "    ctype = []\n",
    "    hq = []\n",
    "    old =[]\n",
    "    employees = []\n",
    "\n",
    "    for i in company:\n",
    "        name.append(i.find('h2').text.strip())\n",
    "        rating.append(i.find('p', class_ = 'rating').text.strip())\n",
    "        reviews.append(i.find('a', class_ = 'review-count').text.strip())\n",
    "        ctype.append(i.find_all('p'), class_ = 'infoEntity')[0].text.strip()\n",
    "        hq.append(i.find_all('p'), class_ = 'infoEntity')[0].text.strip()\n",
    "        old.append(i.find_all('p'), class_ = 'infoEntity')[0].text.strip()\n",
    "        employees.append(i.find_all('p'), class_ = 'infoEntity')[0].text.strip()\n",
    "\n",
    "\n",
    "    d = {'name': name, 'rating': rating, 'reviews': reviews, 'type': ctype, 'hq': hq}\n",
    "\n",
    "    df = pd.DataFrame(d)\n",
    "\n",
    "    final = final.append(df, ignore_index = True)\n"
   ]
  },
  {
   "cell_type": "code",
   "execution_count": null,
   "id": "d3196c00",
   "metadata": {},
   "outputs": [],
   "source": [
    "final.shape"
   ]
  },
  {
   "cell_type": "code",
   "execution_count": null,
   "id": "01d1bde2",
   "metadata": {},
   "outputs": [],
   "source": []
  },
  {
   "cell_type": "code",
   "execution_count": null,
   "id": "99fed551",
   "metadata": {},
   "outputs": [],
   "source": []
  },
  {
   "cell_type": "code",
   "execution_count": null,
   "id": "5d1b42d2",
   "metadata": {},
   "outputs": [],
   "source": []
  },
  {
   "cell_type": "code",
   "execution_count": null,
   "id": "57d36d59",
   "metadata": {},
   "outputs": [],
   "source": []
  },
  {
   "cell_type": "code",
   "execution_count": null,
   "id": "53ed1d8d",
   "metadata": {},
   "outputs": [],
   "source": []
  }
 ],
 "metadata": {
  "kernelspec": {
   "display_name": "Python 3",
   "language": "python",
   "name": "python3"
  },
  "language_info": {
   "codemirror_mode": {
    "name": "ipython",
    "version": 3
   },
   "file_extension": ".py",
   "mimetype": "text/x-python",
   "name": "python",
   "nbconvert_exporter": "python",
   "pygments_lexer": "ipython3",
   "version": "3.12.9"
  }
 },
 "nbformat": 4,
 "nbformat_minor": 5
}
